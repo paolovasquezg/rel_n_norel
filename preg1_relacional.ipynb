{
 "cells": [
  {
   "cell_type": "markdown",
   "metadata": {},
   "source": [
    "# **Base de Datos Relacional**"
   ]
  },
  {
   "cell_type": "markdown",
   "metadata": {},
   "source": [
    "**a) Descargar el archivo Excel: [ BC_Relacional_Ventas_2022_2024.xlsx](https://docs.google.com/spreadsheets/d/1Le4RZ4sv9at_k6Ym1TrlXJvu9QoCUmgI/edit?gid=980479857#gid=980479857)**\n",
    "\n",
    "Se le agregó la columna Mes mediante codigo VBA en Excel, para cumplir con el Cohort posterior."
   ]
  },
  {
   "cell_type": "code",
   "execution_count": null,
   "metadata": {},
   "outputs": [],
   "source": [
    "import pandas as pd\n",
    "\n",
    "def leer_excel(ruta_excel, hoja=0):\n",
    "    df = pd.read_excel(ruta_excel, sheet_name=hoja, engine='openpyxl')\n",
    "    return df\n",
    "\n",
    "rel = rel = leer_excel(\"data/BD_Relacional_Ventas_2022_2024.xlsx\")\n",
    "\n",
    "rel"
   ]
  },
  {
   "cell_type": "markdown",
   "metadata": {},
   "source": [
    "**b) Dashboard de Ventas por Cliente y Consolidado:**\n",
    "\n",
    "- Debe incluir filtros por: Tipo, Tamaño, Canal de adquisición, Vendedor y Fechas"
   ]
  },
  {
   "cell_type": "markdown",
   "metadata": {},
   "source": [
    "![Ventas por cliente](figs/fig1.png)\n",
    "\n",
    "<style>\n",
    "  img {\n",
    "    display: block;\n",
    "    margin: auto;\n",
    "  }\n",
    "</style>"
   ]
  },
  {
   "cell_type": "markdown",
   "metadata": {},
   "source": [
    "**c) Cohort Analysis por Cliente:**\n",
    "\n",
    "- Debe mostrar las ventas por cliente desde el mes de inicio de compras, con columnas correspondientes a Mes 0 (inicio) y los siguientes meses (M1, M2, .... , Mt)\n",
    "\n",
    "- Debe incluir filtros de Tamaño, Tipo y Vendedor"
   ]
  },
  {
   "cell_type": "markdown",
   "metadata": {},
   "source": [
    "![Ventas por cliente](figs/fig2.png)\n",
    "\n",
    "<style>\n",
    "  img {\n",
    "    display: block;\n",
    "    margin: auto;\n",
    "  }\n",
    "</style>"
   ]
  },
  {
   "cell_type": "markdown",
   "metadata": {},
   "source": [
    "**d) Herramienta permitida: AWS QuickSight:**"
   ]
  },
  {
   "cell_type": "markdown",
   "metadata": {},
   "source": [
    "Se usa enteramente AWS QuickSight para la solución, agregando solo código VBA para agregar la columna Mes."
   ]
  },
  {
   "cell_type": "markdown",
   "metadata": {},
   "source": [
    "**e) Análisis Adicional:**\n",
    "\n",
    "Dicha resolución podría complementarse con **AWS RDS**, para tener dicha base de datos en la nube. Se puede enlazar con **QuickSight**, y junto con funciones lambda hacer inserciones o eliminaciones, y refresh de los datasets en Quicksights, para mantener dashboards dinámicos."
   ]
  },
  {
   "cell_type": "markdown",
   "metadata": {},
   "source": [
    "**Video con explicación:** [preg1_relacional.mp4](https://drive.google.com/file/d/1iVRz_n1QLMqeahmpcEG5vQcDCzDDsndd/view?usp=sharing)"
   ]
  }
 ],
 "metadata": {
  "kernelspec": {
   "display_name": "Python 3",
   "language": "python",
   "name": "python3"
  },
  "language_info": {
   "codemirror_mode": {
    "name": "ipython",
    "version": 3
   },
   "file_extension": ".py",
   "mimetype": "text/x-python",
   "name": "python",
   "nbconvert_exporter": "python",
   "pygments_lexer": "ipython3",
   "version": "3.9.11"
  }
 },
 "nbformat": 4,
 "nbformat_minor": 2
}
