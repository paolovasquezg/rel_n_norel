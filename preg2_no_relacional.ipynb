{
 "cells": [
  {
   "cell_type": "markdown",
   "metadata": {},
   "source": [
    "# **Base de Datos No Relacional**"
   ]
  },
  {
   "cell_type": "markdown",
   "metadata": {},
   "source": [
    "Para el desarollo del ejercicio, se ha creado **stock.json** como una copia de **BD_NoRelacional_Productos_100.json**."
   ]
  },
  {
   "cell_type": "markdown",
   "metadata": {},
   "source": [
    "**a) Descargar el archivo JSON: [BD_NoRelacional_Productos_100.json](https://drive.google.com/file/d/1qUtq8Grcf24yhnfR_l5cDSNckN5XkbGg/view) y responde las siguientes preguntas:**\n"
   ]
  },
  {
   "cell_type": "code",
   "execution_count": null,
   "metadata": {},
   "outputs": [],
   "source": [
    "import json\n",
    "\n",
    "def leer_json(ruta_json):\n",
    "    with open(ruta_json, 'r', encoding='utf-8') as archivo:\n",
    "        datos = json.load(archivo)\n",
    "    return datos\n",
    "\n",
    "no_rel = leer_json(\"data/BD_NoRelacional_Productos_100.json\")\n",
    "\n",
    "no_rel"
   ]
  },
  {
   "cell_type": "markdown",
   "metadata": {},
   "source": [
    "- ¿Cómo harías una consulta en MongoDB para obtener los productos de la categoría “smartphones” cuyo precio sea mayor a 2000?"
   ]
  },
  {
   "cell_type": "markdown",
   "metadata": {},
   "source": [
    "Básicamente recorremos el json, filtrando que la categoría sea **Smarthpones** y el precio sea mayor a **2000**."
   ]
  },
  {
   "cell_type": "code",
   "execution_count": null,
   "metadata": {},
   "outputs": [],
   "source": [
    "consulta = [p for p in no_rel if p[\"categoria\"] == \"Smartphones\" and p[\"precio\"] > 2000]\n",
    "\n",
    "for producto in consulta:\n",
    "    print(f\"{producto['nombre']} - ${producto['precio']}\")"
   ]
  },
  {
   "cell_type": "markdown",
   "metadata": {},
   "source": [
    "- ¿Cómo actualizarías el stock de este producto en MongoDB si se vendieron 3 unidades?"
   ]
  },
  {
   "cell_type": "markdown",
   "metadata": {},
   "source": [
    "Básicamente podemos agregar un json llamado **ventas**, con el mismo contenido que **stock**, pero con el entry ***stock*** en 0. La idea es reducir la cantidad de ***stock*** en **stock**, y agregarlo en **ventas**."
   ]
  },
  {
   "cell_type": "code",
   "execution_count": null,
   "metadata": {},
   "outputs": [],
   "source": [
    "stock = leer_json(\"data/stock.json\")\n",
    "ventas = leer_json(\"data/ventas.json\")\n",
    "\n",
    "stock\n",
    "ventas"
   ]
  },
  {
   "cell_type": "markdown",
   "metadata": {},
   "source": [
    "Podemos reducir el stock, por ejemplo en 3 unidades, definiendo el o los productos que deseamos vender junto con la cantidad. En esta caso lo que deseamos vender lo ponemos en el json **test**."
   ]
  },
  {
   "cell_type": "code",
   "execution_count": null,
   "metadata": {},
   "outputs": [],
   "source": [
    "test = leer_json(\"data/test.json\")\n",
    "\n",
    "test"
   ]
  },
  {
   "cell_type": "markdown",
   "metadata": {},
   "source": [
    "La idea es recorrer el json **stock** de productos a vender y ver si estos hacen match con alguno en stock. Si ello sucede, reducimos el stock, y lo aumentamos en **ventas**. Por si no existe el producto en **ventas**, lo agregamos y seteamos el stock vendido."
   ]
  },
  {
   "cell_type": "code",
   "execution_count": null,
   "metadata": {},
   "outputs": [],
   "source": [
    "import json\n",
    "\n",
    "def productos_iguales(prod1, prod2):\n",
    "    return (\n",
    "        prod1[\"nombre\"] == prod2[\"nombre\"] and\n",
    "        prod1[\"categoria\"] == prod2[\"categoria\"] and\n",
    "        prod1[\"precio\"] == prod2[\"precio\"] and\n",
    "        prod1[\"especificaciones\"] == prod2[\"especificaciones\"]\n",
    "    )\n",
    "\n",
    "def guardar_json(archivo, data):\n",
    "    with open(archivo, \"w\", encoding=\"utf-8\") as f:\n",
    "        json.dump(data, f, indent=4, ensure_ascii=False)\n",
    "\n",
    "def actualizar_stock_y_registrar_venta(productos_a_reducir):\n",
    "\n",
    "    for producto_solicitado in productos_a_reducir:\n",
    "        nombre = producto_solicitado[\"nombre\"]\n",
    "        cantidad_a_reducir = producto_solicitado[\"stock\"]\n",
    "\n",
    "        # Buscar el producto en stock.json con coincidencia exacta\n",
    "        producto_encontrado = None\n",
    "        for producto in stock:\n",
    "            if productos_iguales(producto, producto_solicitado):\n",
    "                producto_encontrado = producto\n",
    "                break\n",
    "\n",
    "        if producto_encontrado:\n",
    "            if producto_encontrado[\"stock\"] >= cantidad_a_reducir:\n",
    "                producto_encontrado[\"stock\"] -= cantidad_a_reducir\n",
    "                print(f\"Stock actualizado: {producto_encontrado['stock']} unidades restantes de '{nombre}'\")\n",
    "\n",
    "                # Buscar si el producto ya existe en ventas.json\n",
    "                producto_en_ventas = None\n",
    "                for venta in ventas:\n",
    "                    if productos_iguales(venta, producto_solicitado):\n",
    "                        producto_en_ventas = venta\n",
    "                        break\n",
    "\n",
    "                if producto_en_ventas:\n",
    "                    producto_en_ventas[\"stock\"] += cantidad_a_reducir\n",
    "                    print(f\"Venta actualizada: {producto_en_ventas['stock']} unidades vendidas de '{nombre}'\")\n",
    "                else:\n",
    "                    # Si no existe, agregarlo como nueva venta\n",
    "                    nueva_venta = producto_solicitado.copy()\n",
    "                    nueva_venta[\"stock\"] = cantidad_a_reducir  # Guardar solo la cantidad vendida\n",
    "                    ventas.append(nueva_venta)\n",
    "                    print(f\"Venta registrada: {cantidad_a_reducir} unidades de '{nombre}'\")\n",
    "\n",
    "            else:\n",
    "                print(f\"No hay suficiente stock de '{nombre}'. Solo quedan {producto_encontrado['stock']} unidades.\")\n",
    "        else:\n",
    "            print(f\"Producto '{nombre}' con las mismas especificaciones no encontrado en el stock.\")\n",
    "\n",
    "    # Guardar los cambios\n",
    "    guardar_json(\"mod_stock.json\", stock)\n",
    "    guardar_json(\"mod_ventas.json\", ventas)\n",
    "\n",
    "actualizar_stock_y_registrar_venta(test)\n",
    "stock"
   ]
  },
  {
   "cell_type": "markdown",
   "metadata": {},
   "source": [
    "- ¿Qué tipo de visualizaciones creerías en QuickSight para monitorear el stock y ventas de productos?"
   ]
  },
  {
   "cell_type": "markdown",
   "metadata": {},
   "source": [
    "Dado lo anterior, tenemos los json **stock** y **ventas**, entonces para cada uno creamos una visualización, a manera de gráfico de barras, con nombre y stock, y los debidos filtros por si se requiere mayor detalle."
   ]
  },
  {
   "cell_type": "markdown",
   "metadata": {},
   "source": [
    "## **Stock**\n",
    "\n",
    "Podemos ver reflejado el stock de la base de datos no relacional **stock**, con sus debidos filtros."
   ]
  },
  {
   "cell_type": "markdown",
   "metadata": {},
   "source": [
    "![Ventas por cliente](figs/fig3.png)\n",
    "\n",
    "<style>\n",
    "  img {\n",
    "    display: block;\n",
    "    margin: auto;\n",
    "  }\n",
    "</style>"
   ]
  },
  {
   "cell_type": "markdown",
   "metadata": {},
   "source": [
    "## Ventas\n",
    "\n",
    "Podemos ver reflejado las ventas de la base de datos no relacional **ventas**, con sus debidos filtros."
   ]
  },
  {
   "cell_type": "markdown",
   "metadata": {},
   "source": [
    "![Ventas por cliente](figs/fig4.png)\n",
    "\n",
    "<style>\n",
    "  img {\n",
    "    display: block;\n",
    "    margin: auto;\n",
    "  }\n",
    "</style>"
   ]
  },
  {
   "cell_type": "markdown",
   "metadata": {},
   "source": [
    "- Si los datos en MongoDB cambian dinámicamente, ¿cómo garantizarías que el dashboard de QuickSight siempre tenga datos actualizados?"
   ]
  },
  {
   "cell_type": "markdown",
   "metadata": {},
   "source": [
    "La idea es mantener la estructura de la imagen. Manejar una función **Lambda** que jale de un **Bucket S3**, lo actualize y haga refresh de las visualizaciones en **Quicksight**."
   ]
  },
  {
   "cell_type": "markdown",
   "metadata": {},
   "source": [
    "![Ventas por cliente](figs/fig5.png)\n",
    "\n",
    "<style>\n",
    "  img {\n",
    "    display: block;\n",
    "    margin: auto;\n",
    "  }\n",
    "</style>"
   ]
  },
  {
   "cell_type": "markdown",
   "metadata": {},
   "source": [
    "Entonces tendremos nuestros json **stock** y **ventas** almacenados en el bucket **jsonstockventas**."
   ]
  },
  {
   "cell_type": "markdown",
   "metadata": {},
   "source": [
    "![Ventas por cliente](figs/fig6.png)\n",
    "\n",
    "<style>\n",
    "  img {\n",
    "    display: block;\n",
    "    margin: auto;\n",
    "  }\n",
    "</style>"
   ]
  },
  {
   "cell_type": "markdown",
   "metadata": {},
   "source": [
    "La siguiente función **Lambda**, basícamente hace lo mismo que antes cuando deseamos actualizar el stock, recibe el json **test** (los productos y la cantidad que se desea vender) que se encuentra más abajo, hace la debida actualización, y hace refresh de los datasets en **Quicksight**, y de esta manera las visualizaciones también se actualizan."
   ]
  },
  {
   "cell_type": "code",
   "execution_count": null,
   "metadata": {},
   "outputs": [],
   "source": [
    "import json\n",
    "import boto3\n",
    "import uuid\n",
    "\n",
    "s3 = boto3.client('s3')\n",
    "quicksight = boto3.client('quicksight', region_name='us-east-1')\n",
    "\n",
    "BUCKET_NAME = \"jsonstockventas\"\n",
    "STOCK_FILE = \"stock.json\"\n",
    "VENTAS_FILE = \"ventas.json\"\n",
    "\n",
    "ACCOUNT_ID = \"026123375369\"\n",
    "DATASET_IDS = [\n",
    "    \"55da30ce-cc51-44a5-b557-8d097217181f\",\n",
    "    \"0460d905-b5ae-4866-9abd-0fad7b86d002\",\n",
    "    \"79e2e1df-6d5d-4606-bf99-a974eb9d2e46\"\n",
    "]\n",
    "\n",
    "def refresh_quicksight():\n",
    "    try:\n",
    "        for dataset_id in DATASET_IDS:\n",
    "            ingestion_id = f\"refresh-{uuid.uuid4()}\"\n",
    "            quicksight.create_ingestion(\n",
    "                AwsAccountId=ACCOUNT_ID,\n",
    "                DataSetId=dataset_id,\n",
    "                IngestionId=ingestion_id\n",
    "            )\n",
    "            print(f\"QuickSight refresh triggered for {dataset_id}: {ingestion_id}\")\n",
    "        return \"QuickSight refresh triggered for all datasets\"\n",
    "    except Exception as e:\n",
    "        print(f\"QuickSight refresh failed: {e}\")\n",
    "        return str(e)\n",
    "\n",
    "def productos_iguales(prod1, prod2):\n",
    "    return (\n",
    "        prod1[\"nombre\"] == prod2[\"nombre\"] and\n",
    "        prod1[\"categoria\"] == prod2[\"categoria\"] and\n",
    "        prod1[\"precio\"] == prod2[\"precio\"] and\n",
    "        prod1[\"especificaciones\"] == prod2[\"especificaciones\"]\n",
    "    )\n",
    "\n",
    "def lambda_handler(event, context):\n",
    "    try:\n",
    "        if not isinstance(event, list):\n",
    "            return {\"statusCode\": 400, \"body\": \"Request must be a list of products\"}\n",
    "\n",
    "        required_fields = [\"nombre\", \"categoria\", \"precio\", \"stock\", \"especificaciones\"]\n",
    "        for product in event:\n",
    "            for field in required_fields:\n",
    "                if field not in product:\n",
    "                    return {\"statusCode\": 400, \"body\": f\"Missing '{field}' in one of the products\"}\n",
    "\n",
    "        stock_obj = s3.get_object(Bucket=BUCKET_NAME, Key=STOCK_FILE)\n",
    "        stock_data = json.loads(stock_obj['Body'].read().decode('utf-8'))\n",
    "\n",
    "        try:\n",
    "            ventas_obj = s3.get_object(Bucket=BUCKET_NAME, Key=VENTAS_FILE)\n",
    "            ventas_data = json.loads(ventas_obj['Body'].read().decode('utf-8'))\n",
    "        except s3.exceptions.NoSuchKey:\n",
    "            ventas_data = []\n",
    "\n",
    "\n",
    "        # Buscar el producto en stock.json con coincidencia exacta\n",
    "        for producto_solicitado in event:\n",
    "            nombre = producto_solicitado[\"nombre\"]\n",
    "            cantidad_a_reducir = producto_solicitado[\"stock\"]\n",
    "\n",
    "            producto_encontrado = None\n",
    "            for producto in stock_data:\n",
    "                if productos_iguales(producto, producto_solicitado):\n",
    "                    producto_encontrado = producto\n",
    "                    break\n",
    "\n",
    "            if producto_encontrado:\n",
    "                if producto_encontrado[\"stock\"] >= cantidad_a_reducir:\n",
    "                    producto_encontrado[\"stock\"] -= cantidad_a_reducir\n",
    "                    print(f\"Stock actualizado: {producto_encontrado['stock']} unidades restantes de '{nombre}'\")\n",
    "\n",
    "\n",
    "                     # Buscar si el producto ya existe en ventas.json\n",
    "                    producto_en_ventas = None\n",
    "                    for venta in ventas_data:\n",
    "                        if productos_iguales(venta, producto_solicitado):\n",
    "                            producto_en_ventas = venta\n",
    "                            break\n",
    "\n",
    "                    if producto_en_ventas:\n",
    "                        producto_en_ventas[\"stock\"] += cantidad_a_reducir\n",
    "                        print(f\"Venta actualizada: {producto_en_ventas['stock']} unidades vendidas de '{nombre}'\")\n",
    "                    else:\n",
    "                        # Si no existe, agregarlo como nueva venta\n",
    "                        nueva_venta = producto_solicitado.copy()\n",
    "                        nueva_venta[\"stock\"] = cantidad_a_reducir\n",
    "                        ventas_data.append(nueva_venta)\n",
    "                        print(f\"Venta registrada: {cantidad_a_reducir} unidades de '{nombre}'\")\n",
    "\n",
    "                else:\n",
    "                    print(f\"No hay suficiente stock de '{nombre}'. Solo quedan {producto_encontrado['stock']} unidades.\")\n",
    "            else:\n",
    "                print(f\"Producto '{nombre}' con las mismas especificaciones no encontrado en el stock.\")\n",
    "\n",
    "        s3.put_object(\n",
    "            Bucket=BUCKET_NAME,\n",
    "            Key=STOCK_FILE,\n",
    "            Body=json.dumps(stock_data, indent=4)\n",
    "        )\n",
    "\n",
    "        s3.put_object(\n",
    "            Bucket=BUCKET_NAME,\n",
    "            Key=VENTAS_FILE,\n",
    "            Body=json.dumps(ventas_data, indent=4)\n",
    "        )\n",
    "\n",
    "        # Refrescar QuickSight después de la actualización\n",
    "        refresh_message = refresh_quicksight()\n",
    "\n",
    "        return {\"statusCode\": 200, \"body\": f\"Stock actualizado y ventas registradas. {refresh_message}\"}\n",
    "\n",
    "    except Exception as e:\n",
    "        print(f\"Error: {e}\")\n",
    "        return {\"statusCode\": 500, \"body\": str(e)}\n"
   ]
  },
  {
   "cell_type": "markdown",
   "metadata": {},
   "source": [
    "En el json **test** se pueden agregar tantos productos y cantidad se desee vender."
   ]
  },
  {
   "cell_type": "code",
   "execution_count": null,
   "metadata": {},
   "outputs": [],
   "source": [
    "test"
   ]
  },
  {
   "cell_type": "markdown",
   "metadata": {},
   "source": [
    "Entonces con ello se actualizan las visualizaciones de **stock** y **ventas** vistas anteriormente."
   ]
  },
  {
   "cell_type": "markdown",
   "metadata": {},
   "source": [
    "# **Stock**\n",
    "\n",
    "En la visualización **stock** no vemos mucho cambio, porque solo vendemos 3 productos."
   ]
  },
  {
   "cell_type": "markdown",
   "metadata": {},
   "source": [
    "![Ventas por cliente](figs/fig7.png)\n",
    "\n",
    "<style>\n",
    "  img {\n",
    "    display: block;\n",
    "    margin: auto;\n",
    "  }\n",
    "</style>"
   ]
  },
  {
   "cell_type": "markdown",
   "metadata": {},
   "source": [
    "# **Ventas**\n",
    "\n",
    "En la visualización **ventas** si notamos el cambio, con la venta de estos 3 productos."
   ]
  },
  {
   "cell_type": "markdown",
   "metadata": {},
   "source": [
    "![Ventas por cliente](figs/fig8.png)\n",
    "\n",
    "<style>\n",
    "  img {\n",
    "    display: block;\n",
    "    margin: auto;\n",
    "  }\n",
    "</style>"
   ]
  },
  {
   "cell_type": "markdown",
   "metadata": {},
   "source": [
    "## Scripting\n",
    "\n",
    "- Crea un script en python llamada: fn_equip_reto_python\n",
    "\n",
    "- La función debe leer el archivo Excel\n",
    "\n",
    "- La función debe leer el archivo JSON\n",
    "\n",
    "- Crea un bucle padre para recorrer cada fila de la base de datos Relacional\n",
    "\n",
    "- Crea un bucle anidado (dentro del primer bucle) para recorrer cada fila de la base de datos No Relacional\n",
    "\n",
    "- Cada registro de la base de datos Relacional tendrá un nuevo campo llamado “productos”\n",
    "\n",
    "- Crea una variable aleatoria X dentro del primer bucle llamado limite_productos el cual variará entre 10 y 50\n",
    "\n",
    "- Cada campo “producto” se llenará con los X primeros productos de la base de datos No Relacional"
   ]
  },
  {
   "cell_type": "markdown",
   "metadata": {},
   "source": [
    "Definimos entonces las funciones relevantes, la lectura de **json** y **excel**."
   ]
  },
  {
   "cell_type": "code",
   "execution_count": 6,
   "metadata": {},
   "outputs": [],
   "source": [
    "import json\n",
    "import pandas as pd\n",
    "import random\n",
    "\n",
    "def leer_json(ruta_json):\n",
    "    with open(ruta_json, 'r', encoding='utf-8') as archivo:\n",
    "        datos = json.load(archivo)\n",
    "    return datos\n",
    "\n",
    "def leer_excel(ruta_excel, hoja=0):\n",
    "    df = pd.read_excel(ruta_excel, sheet_name=hoja, engine='openpyxl')\n",
    "    return df"
   ]
  },
  {
   "cell_type": "markdown",
   "metadata": {},
   "source": [
    "Realizamos el bucle anidado indicado, y agregamos la columna **productos**, según la regla indicada."
   ]
  },
  {
   "cell_type": "code",
   "execution_count": null,
   "metadata": {},
   "outputs": [],
   "source": [
    "#\"fn_equip_reto_python.py\"\n",
    "\n",
    "rel = leer_excel(\"data/BD_Relacional_Ventas_2022_2024.xlsx\")\n",
    "no_rel = leer_json(\"data/BD_NoRelacional_Productos_100.json\")\n",
    "\n",
    "rel[\"productos\"] = None\n",
    "\n",
    "for indice, fila in rel.iterrows():\n",
    "    \n",
    "    limite_productos = random.randint(10, 50)\n",
    "    \n",
    "    productos = []\n",
    "\n",
    "    for i, producto in enumerate(no_rel):\n",
    "        if i < limite_productos:\n",
    "            productos.append(producto)\n",
    "        else:\n",
    "            break \n",
    "\n",
    "    rel.at[indice, \"productos\"] = json.dumps(productos, ensure_ascii=False)\n",
    "\n",
    "rel"
   ]
  },
  {
   "cell_type": "markdown",
   "metadata": {},
   "source": [
    "**Video con explicación:** [preg2_no_relacional.mp4]()"
   ]
  }
 ],
 "metadata": {
  "kernelspec": {
   "display_name": "Python 3",
   "language": "python",
   "name": "python3"
  },
  "language_info": {
   "codemirror_mode": {
    "name": "ipython",
    "version": 3
   },
   "file_extension": ".py",
   "mimetype": "text/x-python",
   "name": "python",
   "nbconvert_exporter": "python",
   "pygments_lexer": "ipython3",
   "version": "3.9.11"
  }
 },
 "nbformat": 4,
 "nbformat_minor": 2
}
